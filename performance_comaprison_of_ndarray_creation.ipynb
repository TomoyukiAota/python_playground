{
 "cells": [
  {
   "cell_type": "markdown",
   "metadata": {},
   "source": [
    "# Performance comparison of ndarray creation\n",
    "An ndarray of 2 x 2 matrix needs to be created.\n",
    "\n",
    "The following options are compared:\n",
    " - Create an ndarray of [0, 1, 2, 3, 4, 5] first, and create an ndarray of 2 x 2 matrix by calling np.append function.\n",
    " - Create a Python list of [0, 1, 2, 3, 4, 5] first, create a 2 x 2 matrix in Python list by appending it, and create an ndarray of 2 x 2 matrix from the 2 x 2 matrix in Python list.\n",
    " \n",
    "The result is that the latter option is faster. (In this specific case, approximately 3 times faster.)\n",
    "\n",
    "The reason is as follows. The size of an ndarray instance is fixed, so calling np.append function requires new instance of ndarray, which results in memory allocation of all the existing elements and to-be-appended elements in ndarray. Therefore, calling np.append function frequently is a costly operation. (In C++, this is like the built-in array.) On the other hand, Python list holds memory more than currently required elements and appending elements results in new memory allocation only when the allocated memory is exhausted. (In C++, this is like std::vector.)"
   ]
  },
  {
   "cell_type": "code",
   "execution_count": 1,
   "metadata": {},
   "outputs": [],
   "source": [
    "import numpy as np"
   ]
  },
  {
   "cell_type": "code",
   "execution_count": 2,
   "metadata": {},
   "outputs": [
    {
     "data": {
      "text/plain": [
       "array([[ 0,  1,  2,  3,  4,  5],\n",
       "       [10, 11, 12, 13, 14, 15],\n",
       "       [20, 21, 22, 23, 24, 25],\n",
       "       [30, 31, 32, 33, 34, 35],\n",
       "       [40, 41, 42, 43, 44, 45],\n",
       "       [50, 51, 52, 53, 54, 55]])"
      ]
     },
     "execution_count": 2,
     "metadata": {},
     "output_type": "execute_result"
    }
   ],
   "source": [
    "def create_by_np_append():\n",
    "    top_row = np.arange(6)\n",
    "    matrix = np.array([top_row])\n",
    "    for i in range(1, 6):\n",
    "        matrix = np.append(matrix, np.array([top_row + i*10]), axis=0)\n",
    "    return matrix\n",
    "\n",
    "create_by_np_append()"
   ]
  },
  {
   "cell_type": "code",
   "execution_count": 3,
   "metadata": {},
   "outputs": [
    {
     "data": {
      "text/plain": [
       "array([[ 0,  1,  2,  3,  4,  5],\n",
       "       [10, 11, 12, 13, 14, 15],\n",
       "       [20, 21, 22, 23, 24, 25],\n",
       "       [30, 31, 32, 33, 34, 35],\n",
       "       [40, 41, 42, 43, 44, 45],\n",
       "       [50, 51, 52, 53, 54, 55]])"
      ]
     },
     "execution_count": 3,
     "metadata": {},
     "output_type": "execute_result"
    }
   ],
   "source": [
    "def create_by_list_append():\n",
    "    top_row = range(6)\n",
    "    matrix = [list(top_row)]\n",
    "    for i in range(1, 6):\n",
    "        matrix.append([item + i * 10 for item in top_row])\n",
    "    return np.array(matrix)\n",
    "\n",
    "create_by_list_append()"
   ]
  },
  {
   "cell_type": "code",
   "execution_count": 4,
   "metadata": {},
   "outputs": [
    {
     "name": "stdout",
     "output_type": "stream",
     "text": [
      "25.8 µs ± 2.26 µs per loop (mean ± std. dev. of 7 runs, 10000 loops each)\n"
     ]
    }
   ],
   "source": [
    "%timeit create_by_np_append()"
   ]
  },
  {
   "cell_type": "code",
   "execution_count": 5,
   "metadata": {},
   "outputs": [
    {
     "name": "stdout",
     "output_type": "stream",
     "text": [
      "8.67 µs ± 181 ns per loop (mean ± std. dev. of 7 runs, 100000 loops each)\n"
     ]
    }
   ],
   "source": [
    "%timeit create_by_list_append()"
   ]
  }
 ],
 "metadata": {
  "kernelspec": {
   "display_name": "Python 3",
   "language": "python",
   "name": "python3"
  },
  "language_info": {
   "codemirror_mode": {
    "name": "ipython",
    "version": 3
   },
   "file_extension": ".py",
   "mimetype": "text/x-python",
   "name": "python",
   "nbconvert_exporter": "python",
   "pygments_lexer": "ipython3",
   "version": "3.6.4"
  }
 },
 "nbformat": 4,
 "nbformat_minor": 2
}
