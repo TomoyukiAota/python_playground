{
 "cells": [
  {
   "cell_type": "markdown",
   "metadata": {},
   "source": [
    "# Performance comparison of ndarray creation\n",
    "An ndarray of 2 x 2 matrix needs to be created.\n",
    "\n",
    "The following options are compared:\n",
    " 1. Create an ndarray of [0, 1, 2, 3, 4, 5] first, and create an ndarray of 2 x 2 matrix by calling np.append function.\n",
    " 2. Create a Python list of [0, 1, 2, 3, 4, 5] first, create a 2 x 2 matrix in Python list by appending it, and create an ndarray of 2 x 2 matrix from the 2 x 2 matrix in Python list.\n",
    " 3. Create an ndarray of [[0], [10], [20], [30], [40], [50]] first, and add ndarray of [0, 1, 2, 3, 4, 5]\n",
    " \n",
    "The result is that the options are faster in ascending order.\n",
    "\n",
    "The followings are reasons for this performance difference.\n",
    " 1. The size of an ndarray instance is fixed, so calling np.append function creates new instance of ndarray, which results in new memory allocation of all the existing elements and to-be-appended elements in ndarray. (In C++, this is like the built-in array.)\n",
    " 2. Python list holds memory more than currently required elements and appending elements results in new memory allocation only when the allocated memory is exhausted. (In C++, this is like std::vector.)\n",
    " 3. Memory allocation happens only three times for 1. np.arange(0, 51, 10), 2. np.arange(6), and 3. the result of + operator.\n"
   ]
  },
  {
   "cell_type": "code",
   "execution_count": 1,
   "metadata": {},
   "outputs": [],
   "source": [
    "import numpy as np"
   ]
  },
  {
   "cell_type": "code",
   "execution_count": 2,
   "metadata": {},
   "outputs": [
    {
     "data": {
      "text/plain": [
       "array([[ 0,  1,  2,  3,  4,  5],\n",
       "       [10, 11, 12, 13, 14, 15],\n",
       "       [20, 21, 22, 23, 24, 25],\n",
       "       [30, 31, 32, 33, 34, 35],\n",
       "       [40, 41, 42, 43, 44, 45],\n",
       "       [50, 51, 52, 53, 54, 55]])"
      ]
     },
     "execution_count": 2,
     "metadata": {},
     "output_type": "execute_result"
    }
   ],
   "source": [
    "def create_by_np_append():\n",
    "    top_row = np.arange(6)\n",
    "    matrix = np.array([top_row])\n",
    "    for i in range(1, 6):\n",
    "        matrix = np.append(matrix, np.array([top_row + i*10]), axis=0)\n",
    "    return matrix\n",
    "\n",
    "create_by_np_append()"
   ]
  },
  {
   "cell_type": "code",
   "execution_count": 3,
   "metadata": {},
   "outputs": [
    {
     "name": "stdout",
     "output_type": "stream",
     "text": [
      "23.2 µs ± 1.19 µs per loop (mean ± std. dev. of 7 runs, 10000 loops each)\n"
     ]
    }
   ],
   "source": [
    "%timeit create_by_np_append()"
   ]
  },
  {
   "cell_type": "code",
   "execution_count": 4,
   "metadata": {},
   "outputs": [
    {
     "data": {
      "text/plain": [
       "array([[ 0,  1,  2,  3,  4,  5],\n",
       "       [10, 11, 12, 13, 14, 15],\n",
       "       [20, 21, 22, 23, 24, 25],\n",
       "       [30, 31, 32, 33, 34, 35],\n",
       "       [40, 41, 42, 43, 44, 45],\n",
       "       [50, 51, 52, 53, 54, 55]])"
      ]
     },
     "execution_count": 4,
     "metadata": {},
     "output_type": "execute_result"
    }
   ],
   "source": [
    "def create_by_list_append():\n",
    "    top_row = range(6)\n",
    "    matrix = [list(top_row)]\n",
    "    for i in range(1, 6):\n",
    "        matrix.append([item + i * 10 for item in top_row])\n",
    "    return np.array(matrix)\n",
    "\n",
    "create_by_list_append()"
   ]
  },
  {
   "cell_type": "code",
   "execution_count": 5,
   "metadata": {},
   "outputs": [
    {
     "name": "stdout",
     "output_type": "stream",
     "text": [
      "8.66 µs ± 248 ns per loop (mean ± std. dev. of 7 runs, 100000 loops each)\n"
     ]
    }
   ],
   "source": [
    "%timeit create_by_list_append()"
   ]
  },
  {
   "cell_type": "code",
   "execution_count": 6,
   "metadata": {},
   "outputs": [
    {
     "data": {
      "text/plain": [
       "array([[ 0,  1,  2,  3,  4,  5],\n",
       "       [10, 11, 12, 13, 14, 15],\n",
       "       [20, 21, 22, 23, 24, 25],\n",
       "       [30, 31, 32, 33, 34, 35],\n",
       "       [40, 41, 42, 43, 44, 45],\n",
       "       [50, 51, 52, 53, 54, 55]])"
      ]
     },
     "execution_count": 6,
     "metadata": {},
     "output_type": "execute_result"
    }
   ],
   "source": [
    "def create_by_adding_ndarray():\n",
    "    return np.arange(0, 51, 10)[:, np.newaxis] + np.arange(6)\n",
    "\n",
    "create_by_adding_ndarray()"
   ]
  },
  {
   "cell_type": "code",
   "execution_count": 7,
   "metadata": {},
   "outputs": [
    {
     "name": "stdout",
     "output_type": "stream",
     "text": [
      "3.81 µs ± 262 ns per loop (mean ± std. dev. of 7 runs, 100000 loops each)\n"
     ]
    }
   ],
   "source": [
    "%timeit create_by_adding_ndarray()"
   ]
  }
 ],
 "metadata": {
  "kernelspec": {
   "display_name": "Python 3",
   "language": "python",
   "name": "python3"
  },
  "language_info": {
   "codemirror_mode": {
    "name": "ipython",
    "version": 3
   },
   "file_extension": ".py",
   "mimetype": "text/x-python",
   "name": "python",
   "nbconvert_exporter": "python",
   "pygments_lexer": "ipython3",
   "version": "3.6.4"
  }
 },
 "nbformat": 4,
 "nbformat_minor": 2
}
